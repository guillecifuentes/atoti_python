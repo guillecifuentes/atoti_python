{
 "cells": [
  {
   "cell_type": "code",
   "execution_count": 1,
   "id": "20d70391-5be7-4997-8a1b-24f8cdad3f7a",
   "metadata": {},
   "outputs": [
    {
     "name": "stdout",
     "output_type": "stream",
     "text": [
      "numero encontrado\n",
      "7  |  7 :  [2, 3, 5, 7, 11, 13, 17, 19, 23, 29, 31, 37, 41, 43, 47, 53, 59, 61, 67, 71, 73, 79, 83, 89, 97]\n",
      "3\n"
     ]
    }
   ],
   "source": [
    "from math import floor #metodo que te ayudara a redondear el promedio hacia abajo\n",
    "\n",
    "def binariSearch(primos,target):\n",
    "    min=0\n",
    "    max=len(primos)-1\n",
    "    guess=int()\n",
    "    while True:\n",
    "        if min>max:\n",
    "            print(\"target no esta en el array\")\n",
    "            return -1\n",
    "            pass\n",
    "\n",
    "        guess=floor((min+max)/2)\n",
    "\n",
    "        if primos[guess]==target:\n",
    "            print(\"numero encontrado\")\n",
    "            print(primos[guess],\" | \",target,\": \",primos)\n",
    "            return guess\n",
    "            pass\n",
    "        elif primos[guess]<target:\n",
    "            min=guess+1\n",
    "            pass\n",
    "        else:\n",
    "            max=guess-1\n",
    "            pass\n",
    "        pass\n",
    "    return 0\n",
    "\n",
    "primos=[2, 3, 5, 7, 11, 13, 17, 19, 23, 29, 31, 37, 41, 43, 47, 53, 59, 61, 67, 71, 73, 79, 83, 89, 97]\n",
    "print(binariSearch(primos,7))"
   ]
  },
  {
   "cell_type": "code",
   "execution_count": 2,
   "id": "ec97a6bf-6a99-44a7-b961-80e5d762367e",
   "metadata": {},
   "outputs": [
    {
     "name": "stdout",
     "output_type": "stream",
     "text": [
      "target no esta en el array\n",
      "-1\n"
     ]
    }
   ],
   "source": [
    "print(binariSearch(primos,25))"
   ]
  },
  {
   "cell_type": "code",
   "execution_count": 3,
   "id": "c26b177d-241b-49c2-b615-2176e0da417f",
   "metadata": {},
   "outputs": [
    {
     "name": "stdout",
     "output_type": "stream",
     "text": [
      "numero encontrado\n",
      "37  |  37 :  [2, 3, 5, 7, 11, 13, 17, 19, 23, 29, 31, 37, 41, 43, 47, 53, 59, 61, 67, 71, 73, 79, 83, 89, 97]\n",
      "11\n"
     ]
    }
   ],
   "source": [
    "print(binariSearch(primos,37))"
   ]
  },
  {
   "cell_type": "code",
   "execution_count": 5,
   "id": "03b09efa-4d51-4fd2-a6f6-fad9e47732a7",
   "metadata": {},
   "outputs": [],
   "source": [
    "primos=[1,2,3,5,8,13,21,34,55,89]"
   ]
  },
  {
   "cell_type": "code",
   "execution_count": 6,
   "id": "13fe74a8-c6a6-469d-a5a4-887dce9595f5",
   "metadata": {},
   "outputs": [
    {
     "name": "stdout",
     "output_type": "stream",
     "text": [
      "target no esta en el array\n",
      "-1\n"
     ]
    }
   ],
   "source": [
    "print(binariSearch(primos,25))"
   ]
  },
  {
   "cell_type": "code",
   "execution_count": 7,
   "id": "88964431-8294-4052-979f-d3bbcc1a1f17",
   "metadata": {},
   "outputs": [
    {
     "name": "stdout",
     "output_type": "stream",
     "text": [
      "numero encontrado\n",
      "55  |  55 :  [1, 2, 3, 5, 8, 13, 21, 34, 55, 89]\n",
      "8\n"
     ]
    }
   ],
   "source": [
    "print(binariSearch(primos,55))"
   ]
  },
  {
   "cell_type": "code",
   "execution_count": null,
   "id": "b21be88e-f0f9-47bb-b616-fd05a740c871",
   "metadata": {},
   "outputs": [],
   "source": []
  }
 ],
 "metadata": {
  "kernelspec": {
   "display_name": "Python 3 (ipykernel)",
   "language": "python",
   "name": "python3"
  },
  "language_info": {
   "codemirror_mode": {
    "name": "ipython",
    "version": 3
   },
   "file_extension": ".py",
   "mimetype": "text/x-python",
   "name": "python",
   "nbconvert_exporter": "python",
   "pygments_lexer": "ipython3",
   "version": "3.10.0"
  }
 },
 "nbformat": 4,
 "nbformat_minor": 5
}
