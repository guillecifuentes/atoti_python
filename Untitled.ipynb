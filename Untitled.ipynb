{
 "cells": [
  {
   "cell_type": "code",
   "execution_count": 3,
   "id": "275f18b2-6be6-47e4-8155-5233c50d6027",
   "metadata": {
    "tags": []
   },
   "outputs": [
    {
     "name": "stdout",
     "output_type": "stream",
     "text": [
      "Requirement already satisfied: atoti-jupyterlab in c:\\atoti\\myenv\\lib\\site-packages (0.6.4)\n",
      "Requirement already satisfied: atoti-core==0.6.4 in c:\\atoti\\myenv\\lib\\site-packages (from atoti-jupyterlab) (0.6.4)\n",
      "Requirement already satisfied: atoti==0.6.4 in c:\\atoti\\myenv\\lib\\site-packages (from atoti-jupyterlab) (0.6.4)\n",
      "Requirement already satisfied: jupyterlab~=3.0 in c:\\atoti\\myenv\\lib\\site-packages (from atoti-jupyterlab) (3.2.9)\n",
      "Requirement already satisfied: pandas in c:\\atoti\\myenv\\lib\\site-packages (from atoti==0.6.4->atoti-jupyterlab) (1.4.0)\n",
      "Requirement already satisfied: py4j~=0.10.9 in c:\\atoti\\myenv\\lib\\site-packages (from atoti==0.6.4->atoti-jupyterlab) (0.10.9.3)\n",
      "Requirement already satisfied: pyarrow~=6.0 in c:\\atoti\\myenv\\lib\\site-packages (from atoti==0.6.4->atoti-jupyterlab) (6.0.1)\n",
      "Requirement already satisfied: numpy!=1.19.4 in c:\\atoti\\myenv\\lib\\site-packages (from atoti==0.6.4->atoti-jupyterlab) (1.22.2)\n",
      "Requirement already satisfied: jdk4py~=11.0 in c:\\atoti\\myenv\\lib\\site-packages (from atoti==0.6.4->atoti-jupyterlab) (11.0.13.1)\n",
      "Requirement already satisfied: atoti-query==0.6.4 in c:\\atoti\\myenv\\lib\\site-packages (from atoti==0.6.4->atoti-jupyterlab) (0.6.4)\n",
      "Requirement already satisfied: importlib-metadata~=4.10 in c:\\atoti\\myenv\\lib\\site-packages (from atoti-core==0.6.4->atoti-jupyterlab) (4.10.1)\n",
      "Requirement already satisfied: typing-extensions>=4.0.1 in c:\\atoti\\myenv\\lib\\site-packages (from atoti-core==0.6.4->atoti-jupyterlab) (4.0.1)\n",
      "Requirement already satisfied: typeguard~=2.12 in c:\\atoti\\myenv\\lib\\site-packages (from atoti-query==0.6.4->atoti==0.6.4->atoti-jupyterlab) (2.13.3)\n",
      "Requirement already satisfied: zipp>=0.5 in c:\\atoti\\myenv\\lib\\site-packages (from importlib-metadata~=4.10->atoti-core==0.6.4->atoti-jupyterlab) (3.7.0)\n",
      "Requirement already satisfied: packaging in c:\\atoti\\myenv\\lib\\site-packages (from jupyterlab~=3.0->atoti-jupyterlab) (21.3)\n",
      "Requirement already satisfied: jupyterlab-server~=2.3 in c:\\atoti\\myenv\\lib\\site-packages (from jupyterlab~=3.0->atoti-jupyterlab) (2.10.3)\n",
      "Requirement already satisfied: jinja2>=2.1 in c:\\atoti\\myenv\\lib\\site-packages (from jupyterlab~=3.0->atoti-jupyterlab) (3.0.3)\n",
      "Requirement already satisfied: ipython in c:\\atoti\\myenv\\lib\\site-packages (from jupyterlab~=3.0->atoti-jupyterlab) (8.0.1)\n",
      "Requirement already satisfied: jupyter-server~=1.4 in c:\\atoti\\myenv\\lib\\site-packages (from jupyterlab~=3.0->atoti-jupyterlab) (1.13.4)\n",
      "Requirement already satisfied: tornado>=6.1.0 in c:\\atoti\\myenv\\lib\\site-packages (from jupyterlab~=3.0->atoti-jupyterlab) (6.1)\n",
      "Requirement already satisfied: nbclassic~=0.2 in c:\\atoti\\myenv\\lib\\site-packages (from jupyterlab~=3.0->atoti-jupyterlab) (0.3.5)\n",
      "Requirement already satisfied: jupyter-core in c:\\atoti\\myenv\\lib\\site-packages (from jupyterlab~=3.0->atoti-jupyterlab) (4.9.1)\n",
      "Requirement already satisfied: MarkupSafe>=2.0 in c:\\atoti\\myenv\\lib\\site-packages (from jinja2>=2.1->jupyterlab~=3.0->atoti-jupyterlab) (2.0.1)\n",
      "Requirement already satisfied: traitlets>=5 in c:\\atoti\\myenv\\lib\\site-packages (from jupyter-server~=1.4->jupyterlab~=3.0->atoti-jupyterlab) (5.1.1)\n",
      "Requirement already satisfied: pyzmq>=17 in c:\\atoti\\myenv\\lib\\site-packages (from jupyter-server~=1.4->jupyterlab~=3.0->atoti-jupyterlab) (22.3.0)\n",
      "Requirement already satisfied: nbformat in c:\\atoti\\myenv\\lib\\site-packages (from jupyter-server~=1.4->jupyterlab~=3.0->atoti-jupyterlab) (5.1.3)\n",
      "Requirement already satisfied: nbconvert in c:\\atoti\\myenv\\lib\\site-packages (from jupyter-server~=1.4->jupyterlab~=3.0->atoti-jupyterlab) (6.4.1)\n",
      "Requirement already satisfied: prometheus-client in c:\\atoti\\myenv\\lib\\site-packages (from jupyter-server~=1.4->jupyterlab~=3.0->atoti-jupyterlab) (0.13.1)\n",
      "Requirement already satisfied: websocket-client in c:\\atoti\\myenv\\lib\\site-packages (from jupyter-server~=1.4->jupyterlab~=3.0->atoti-jupyterlab) (1.2.3)\n",
      "Requirement already satisfied: anyio<4,>=3.1.0 in c:\\atoti\\myenv\\lib\\site-packages (from jupyter-server~=1.4->jupyterlab~=3.0->atoti-jupyterlab) (3.5.0)\n",
      "Requirement already satisfied: ipython-genutils in c:\\atoti\\myenv\\lib\\site-packages (from jupyter-server~=1.4->jupyterlab~=3.0->atoti-jupyterlab) (0.2.0)\n",
      "Requirement already satisfied: argon2-cffi in c:\\atoti\\myenv\\lib\\site-packages (from jupyter-server~=1.4->jupyterlab~=3.0->atoti-jupyterlab) (21.3.0)\n",
      "Requirement already satisfied: Send2Trash in c:\\atoti\\myenv\\lib\\site-packages (from jupyter-server~=1.4->jupyterlab~=3.0->atoti-jupyterlab) (1.8.0)\n",
      "Requirement already satisfied: jupyter-client>=6.1.1 in c:\\atoti\\myenv\\lib\\site-packages (from jupyter-server~=1.4->jupyterlab~=3.0->atoti-jupyterlab) (7.1.2)\n",
      "Requirement already satisfied: terminado>=0.8.3 in c:\\atoti\\myenv\\lib\\site-packages (from jupyter-server~=1.4->jupyterlab~=3.0->atoti-jupyterlab) (0.13.1)\n",
      "Requirement already satisfied: sniffio>=1.1 in c:\\atoti\\myenv\\lib\\site-packages (from anyio<4,>=3.1.0->jupyter-server~=1.4->jupyterlab~=3.0->atoti-jupyterlab) (1.2.0)\n",
      "Requirement already satisfied: idna>=2.8 in c:\\atoti\\myenv\\lib\\site-packages (from anyio<4,>=3.1.0->jupyter-server~=1.4->jupyterlab~=3.0->atoti-jupyterlab) (3.3)\n",
      "Requirement already satisfied: python-dateutil>=2.1 in c:\\atoti\\myenv\\lib\\site-packages (from jupyter-client>=6.1.1->jupyter-server~=1.4->jupyterlab~=3.0->atoti-jupyterlab) (2.8.2)\n",
      "Requirement already satisfied: nest-asyncio>=1.5 in c:\\atoti\\myenv\\lib\\site-packages (from jupyter-client>=6.1.1->jupyter-server~=1.4->jupyterlab~=3.0->atoti-jupyterlab) (1.5.4)\n",
      "Requirement already satisfied: entrypoints in c:\\atoti\\myenv\\lib\\site-packages (from jupyter-client>=6.1.1->jupyter-server~=1.4->jupyterlab~=3.0->atoti-jupyterlab) (0.4)\n",
      "Requirement already satisfied: pywin32>=1.0 in c:\\atoti\\myenv\\lib\\site-packages (from jupyter-core->jupyterlab~=3.0->atoti-jupyterlab) (303)\n",
      "Requirement already satisfied: json5 in c:\\atoti\\myenv\\lib\\site-packages (from jupyterlab-server~=2.3->jupyterlab~=3.0->atoti-jupyterlab) (0.9.6)\n",
      "Requirement already satisfied: jsonschema>=3.0.1 in c:\\atoti\\myenv\\lib\\site-packages (from jupyterlab-server~=2.3->jupyterlab~=3.0->atoti-jupyterlab) (4.4.0)\n",
      "Requirement already satisfied: babel in c:\\atoti\\myenv\\lib\\site-packages (from jupyterlab-server~=2.3->jupyterlab~=3.0->atoti-jupyterlab) (2.9.1)\n",
      "Requirement already satisfied: requests in c:\\atoti\\myenv\\lib\\site-packages (from jupyterlab-server~=2.3->jupyterlab~=3.0->atoti-jupyterlab) (2.27.1)\n",
      "Requirement already satisfied: pyrsistent!=0.17.0,!=0.17.1,!=0.17.2,>=0.14.0 in c:\\atoti\\myenv\\lib\\site-packages (from jsonschema>=3.0.1->jupyterlab-server~=2.3->jupyterlab~=3.0->atoti-jupyterlab) (0.18.1)\n",
      "Requirement already satisfied: attrs>=17.4.0 in c:\\atoti\\myenv\\lib\\site-packages (from jsonschema>=3.0.1->jupyterlab-server~=2.3->jupyterlab~=3.0->atoti-jupyterlab) (21.4.0)\n",
      "Requirement already satisfied: notebook<7 in c:\\atoti\\myenv\\lib\\site-packages (from nbclassic~=0.2->jupyterlab~=3.0->atoti-jupyterlab) (6.4.8)\n",
      "Requirement already satisfied: ipykernel in c:\\atoti\\myenv\\lib\\site-packages (from notebook<7->nbclassic~=0.2->jupyterlab~=3.0->atoti-jupyterlab) (6.8.0)\n",
      "Requirement already satisfied: six>=1.5 in c:\\atoti\\myenv\\lib\\site-packages (from python-dateutil>=2.1->jupyter-client>=6.1.1->jupyter-server~=1.4->jupyterlab~=3.0->atoti-jupyterlab) (1.16.0)\n",
      "Requirement already satisfied: pywinpty>=1.1.0 in c:\\atoti\\myenv\\lib\\site-packages (from terminado>=0.8.3->jupyter-server~=1.4->jupyterlab~=3.0->atoti-jupyterlab) (2.0.2)\n",
      "Requirement already satisfied: argon2-cffi-bindings in c:\\atoti\\myenv\\lib\\site-packages (from argon2-cffi->jupyter-server~=1.4->jupyterlab~=3.0->atoti-jupyterlab) (21.2.0)\n",
      "Requirement already satisfied: cffi>=1.0.1 in c:\\atoti\\myenv\\lib\\site-packages (from argon2-cffi-bindings->argon2-cffi->jupyter-server~=1.4->jupyterlab~=3.0->atoti-jupyterlab) (1.15.0)\n",
      "Requirement already satisfied: pycparser in c:\\atoti\\myenv\\lib\\site-packages (from cffi>=1.0.1->argon2-cffi-bindings->argon2-cffi->jupyter-server~=1.4->jupyterlab~=3.0->atoti-jupyterlab) (2.21)\n",
      "Requirement already satisfied: pytz>=2015.7 in c:\\atoti\\myenv\\lib\\site-packages (from babel->jupyterlab-server~=2.3->jupyterlab~=3.0->atoti-jupyterlab) (2021.3)"
     ]
    },
    {
     "name": "stderr",
     "output_type": "stream",
     "text": [
      "WARNING: You are using pip version 21.2.3; however, version 22.0.3 is available.\n",
      "You should consider upgrading via the 'C:\\atoti\\myenv\\Scripts\\python.exe -m pip install --upgrade pip' command.\n"
     ]
    },
    {
     "name": "stdout",
     "output_type": "stream",
     "text": [
      "\n",
      "Requirement already satisfied: debugpy<2.0,>=1.0.0 in c:\\atoti\\myenv\\lib\\site-packages (from ipykernel->notebook<7->nbclassic~=0.2->jupyterlab~=3.0->atoti-jupyterlab) (1.5.1)\n",
      "Requirement already satisfied: matplotlib-inline<0.2.0,>=0.1.0 in c:\\atoti\\myenv\\lib\\site-packages (from ipykernel->notebook<7->nbclassic~=0.2->jupyterlab~=3.0->atoti-jupyterlab) (0.1.3)\n",
      "Requirement already satisfied: prompt-toolkit!=3.0.0,!=3.0.1,<3.1.0,>=2.0.0 in c:\\atoti\\myenv\\lib\\site-packages (from ipython->jupyterlab~=3.0->atoti-jupyterlab) (3.0.26)\n",
      "Requirement already satisfied: jedi>=0.16 in c:\\atoti\\myenv\\lib\\site-packages (from ipython->jupyterlab~=3.0->atoti-jupyterlab) (0.18.1)\n",
      "Requirement already satisfied: pickleshare in c:\\atoti\\myenv\\lib\\site-packages (from ipython->jupyterlab~=3.0->atoti-jupyterlab) (0.7.5)\n",
      "Requirement already satisfied: setuptools>=18.5 in c:\\atoti\\myenv\\lib\\site-packages (from ipython->jupyterlab~=3.0->atoti-jupyterlab) (57.4.0)\n",
      "Requirement already satisfied: backcall in c:\\atoti\\myenv\\lib\\site-packages (from ipython->jupyterlab~=3.0->atoti-jupyterlab) (0.2.0)\n",
      "Requirement already satisfied: pygments in c:\\atoti\\myenv\\lib\\site-packages (from ipython->jupyterlab~=3.0->atoti-jupyterlab) (2.11.2)\n",
      "Requirement already satisfied: black in c:\\atoti\\myenv\\lib\\site-packages (from ipython->jupyterlab~=3.0->atoti-jupyterlab) (22.1.0)\n",
      "Requirement already satisfied: stack-data in c:\\atoti\\myenv\\lib\\site-packages (from ipython->jupyterlab~=3.0->atoti-jupyterlab) (0.1.4)\n",
      "Requirement already satisfied: decorator in c:\\atoti\\myenv\\lib\\site-packages (from ipython->jupyterlab~=3.0->atoti-jupyterlab) (5.1.1)\n",
      "Requirement already satisfied: colorama in c:\\atoti\\myenv\\lib\\site-packages (from ipython->jupyterlab~=3.0->atoti-jupyterlab) (0.4.4)\n",
      "Requirement already satisfied: parso<0.9.0,>=0.8.0 in c:\\atoti\\myenv\\lib\\site-packages (from jedi>=0.16->ipython->jupyterlab~=3.0->atoti-jupyterlab) (0.8.3)\n",
      "Requirement already satisfied: wcwidth in c:\\atoti\\myenv\\lib\\site-packages (from prompt-toolkit!=3.0.0,!=3.0.1,<3.1.0,>=2.0.0->ipython->jupyterlab~=3.0->atoti-jupyterlab) (0.2.5)\n",
      "Requirement already satisfied: tomli>=1.1.0 in c:\\atoti\\myenv\\lib\\site-packages (from black->ipython->jupyterlab~=3.0->atoti-jupyterlab) (2.0.0)\n",
      "Requirement already satisfied: mypy-extensions>=0.4.3 in c:\\atoti\\myenv\\lib\\site-packages (from black->ipython->jupyterlab~=3.0->atoti-jupyterlab) (0.4.3)\n",
      "Requirement already satisfied: pathspec>=0.9.0 in c:\\atoti\\myenv\\lib\\site-packages (from black->ipython->jupyterlab~=3.0->atoti-jupyterlab) (0.9.0)\n",
      "Requirement already satisfied: platformdirs>=2 in c:\\atoti\\myenv\\lib\\site-packages (from black->ipython->jupyterlab~=3.0->atoti-jupyterlab) (2.4.1)\n",
      "Requirement already satisfied: click>=8.0.0 in c:\\atoti\\myenv\\lib\\site-packages (from black->ipython->jupyterlab~=3.0->atoti-jupyterlab) (8.0.3)\n",
      "Requirement already satisfied: jupyterlab-pygments in c:\\atoti\\myenv\\lib\\site-packages (from nbconvert->jupyter-server~=1.4->jupyterlab~=3.0->atoti-jupyterlab) (0.1.2)\n",
      "Requirement already satisfied: testpath in c:\\atoti\\myenv\\lib\\site-packages (from nbconvert->jupyter-server~=1.4->jupyterlab~=3.0->atoti-jupyterlab) (0.5.0)\n",
      "Requirement already satisfied: defusedxml in c:\\atoti\\myenv\\lib\\site-packages (from nbconvert->jupyter-server~=1.4->jupyterlab~=3.0->atoti-jupyterlab) (0.7.1)\n",
      "Requirement already satisfied: nbclient<0.6.0,>=0.5.0 in c:\\atoti\\myenv\\lib\\site-packages (from nbconvert->jupyter-server~=1.4->jupyterlab~=3.0->atoti-jupyterlab) (0.5.10)\n",
      "Requirement already satisfied: mistune<2,>=0.8.1 in c:\\atoti\\myenv\\lib\\site-packages (from nbconvert->jupyter-server~=1.4->jupyterlab~=3.0->atoti-jupyterlab) (0.8.4)\n",
      "Requirement already satisfied: pandocfilters>=1.4.1 in c:\\atoti\\myenv\\lib\\site-packages (from nbconvert->jupyter-server~=1.4->jupyterlab~=3.0->atoti-jupyterlab) (1.5.0)\n",
      "Requirement already satisfied: bleach in c:\\atoti\\myenv\\lib\\site-packages (from nbconvert->jupyter-server~=1.4->jupyterlab~=3.0->atoti-jupyterlab) (4.1.0)\n",
      "Requirement already satisfied: webencodings in c:\\atoti\\myenv\\lib\\site-packages (from bleach->nbconvert->jupyter-server~=1.4->jupyterlab~=3.0->atoti-jupyterlab) (0.5.1)\n",
      "Requirement already satisfied: pyparsing!=3.0.5,>=2.0.2 in c:\\atoti\\myenv\\lib\\site-packages (from packaging->jupyterlab~=3.0->atoti-jupyterlab) (3.0.7)\n",
      "Requirement already satisfied: certifi>=2017.4.17 in c:\\atoti\\myenv\\lib\\site-packages (from requests->jupyterlab-server~=2.3->jupyterlab~=3.0->atoti-jupyterlab) (2021.10.8)\n",
      "Requirement already satisfied: charset-normalizer~=2.0.0 in c:\\atoti\\myenv\\lib\\site-packages (from requests->jupyterlab-server~=2.3->jupyterlab~=3.0->atoti-jupyterlab) (2.0.11)\n",
      "Requirement already satisfied: urllib3<1.27,>=1.21.1 in c:\\atoti\\myenv\\lib\\site-packages (from requests->jupyterlab-server~=2.3->jupyterlab~=3.0->atoti-jupyterlab) (1.26.8)\n",
      "Requirement already satisfied: executing in c:\\atoti\\myenv\\lib\\site-packages (from stack-data->ipython->jupyterlab~=3.0->atoti-jupyterlab) (0.8.2)\n",
      "Requirement already satisfied: pure-eval in c:\\atoti\\myenv\\lib\\site-packages (from stack-data->ipython->jupyterlab~=3.0->atoti-jupyterlab) (0.2.2)\n",
      "Requirement already satisfied: asttokens in c:\\atoti\\myenv\\lib\\site-packages (from stack-data->ipython->jupyterlab~=3.0->atoti-jupyterlab) (2.0.5)\n"
     ]
    }
   ],
   "source": [
    "!pip install atoti-jupyterlab"
   ]
  },
  {
   "cell_type": "code",
   "execution_count": 4,
   "id": "f6779754-40a5-4900-a1bb-251d21f685f3",
   "metadata": {},
   "outputs": [
    {
     "name": "stdout",
     "output_type": "stream",
     "text": [
      "Welcome to atoti 0.6.4!\n",
      "\n",
      "By using this community edition, you agree with the license available at https://docs.atoti.io/latest/eula.html.\n",
      "Browse the official documentation at https://docs.atoti.io.\n",
      "Join the community at https://www.atoti.io/register.\n",
      "\n",
      "atoti collects telemetry data, which is used to help understand how to improve the product.\n",
      "If you don't wish to send usage data, set the ATOTI_DISABLE_TELEMETRY environment variable to True.\n",
      "\n",
      "You can hide this message by setting the ATOTI_HIDE_EULA_MESSAGE environment variable to True.\n"
     ]
    }
   ],
   "source": [
    "import atoti as tt\n",
    "session=tt.create_session()"
   ]
  },
  {
   "cell_type": "code",
   "execution_count": 6,
   "id": "71c55df3-0866-427f-ae76-19eda7afdf3d",
   "metadata": {
    "tags": []
   },
   "outputs": [
    {
     "ename": "AtotiJavaException",
     "evalue": "A store with the name Fl_insurance_sample already exists! \nIf you want to recreate this store,you will have to re-create the session.",
     "output_type": "error",
     "traceback": [
      "\u001b[1;31m---------------------------------------------------------------------------\u001b[0m",
      "\u001b[1;31mAtotiJavaException\u001b[0m                        Traceback (most recent call last)",
      "Input \u001b[1;32mIn [6]\u001b[0m, in \u001b[0;36m<module>\u001b[1;34m\u001b[0m\n\u001b[1;32m----> 1\u001b[0m sales_store\u001b[38;5;241m=\u001b[39m\u001b[43msession\u001b[49m\u001b[38;5;241;43m.\u001b[39;49m\u001b[43mread_csv\u001b[49m\u001b[43m(\u001b[49m\u001b[38;5;124;43m\"\u001b[39;49m\u001b[38;5;124;43mFL_insurance_sample.csv\u001b[39;49m\u001b[38;5;124;43m\"\u001b[39;49m\u001b[43m,\u001b[49m\u001b[43m \u001b[49m\u001b[43mkeys\u001b[49m\u001b[38;5;241;43m=\u001b[39;49m\u001b[43m[\u001b[49m\u001b[38;5;124;43m\"\u001b[39;49m\u001b[38;5;124;43mpolicyID\u001b[39;49m\u001b[38;5;124;43m\"\u001b[39;49m\u001b[43m]\u001b[49m\u001b[43m)\u001b[49m\n",
      "File \u001b[1;32mC:\\atoti\\myenv\\lib\\site-packages\\atoti\\_telemetry.py:222\u001b[0m, in \u001b[0;36m_track_calls.<locals>.function_wrapper\u001b[1;34m(*args, **kwargs)\u001b[0m\n\u001b[0;32m    219\u001b[0m call_tracker\u001b[38;5;241m.\u001b[39mtracking \u001b[38;5;241m=\u001b[39m \u001b[38;5;28;01mTrue\u001b[39;00m\n\u001b[0;32m    221\u001b[0m \u001b[38;5;28;01mtry\u001b[39;00m:\n\u001b[1;32m--> 222\u001b[0m     \u001b[38;5;28;01mreturn\u001b[39;00m _track_call(function, call_path, \u001b[38;5;241m*\u001b[39margs, \u001b[38;5;241m*\u001b[39m\u001b[38;5;241m*\u001b[39mkwargs)\n\u001b[0;32m    223\u001b[0m \u001b[38;5;28;01mfinally\u001b[39;00m:\n\u001b[0;32m    224\u001b[0m     call_tracker\u001b[38;5;241m.\u001b[39mtracking \u001b[38;5;241m=\u001b[39m \u001b[38;5;28;01mFalse\u001b[39;00m\n",
      "File \u001b[1;32mC:\\atoti\\myenv\\lib\\site-packages\\atoti\\_telemetry.py:185\u001b[0m, in \u001b[0;36m_track_call\u001b[1;34m(function, call_path, *args, **kwargs)\u001b[0m\n\u001b[0;32m    182\u001b[0m     \u001b[38;5;28;01mexcept\u001b[39;00m:  \u001b[38;5;66;03m# pylint: disable=bare-except\u001b[39;00m\n\u001b[0;32m    183\u001b[0m         \u001b[38;5;66;03m# Do nothing to let the previous error be the one presented to the user.\u001b[39;00m\n\u001b[0;32m    184\u001b[0m         \u001b[38;5;241m.\u001b[39m\u001b[38;5;241m.\u001b[39m\u001b[38;5;241m.\u001b[39m\n\u001b[1;32m--> 185\u001b[0m     \u001b[38;5;28;01mraise\u001b[39;00m error\n\u001b[0;32m    186\u001b[0m \u001b[38;5;28;01mfinally\u001b[39;00m:\n\u001b[0;32m    187\u001b[0m     arguments: Dict[\u001b[38;5;28mstr\u001b[39m, \u001b[38;5;28mstr\u001b[39m] \u001b[38;5;241m=\u001b[39m {}\n",
      "File \u001b[1;32mC:\\atoti\\myenv\\lib\\site-packages\\atoti\\_telemetry.py:178\u001b[0m, in \u001b[0;36m_track_call\u001b[1;34m(function, call_path, *args, **kwargs)\u001b[0m\n\u001b[0;32m    176\u001b[0m call_time \u001b[38;5;241m=\u001b[39m time\u001b[38;5;241m.\u001b[39mperf_counter()\n\u001b[0;32m    177\u001b[0m \u001b[38;5;28;01mtry\u001b[39;00m:\n\u001b[1;32m--> 178\u001b[0m     \u001b[38;5;28;01mreturn\u001b[39;00m function(\u001b[38;5;241m*\u001b[39margs, \u001b[38;5;241m*\u001b[39m\u001b[38;5;241m*\u001b[39mkwargs)\n\u001b[0;32m    179\u001b[0m \u001b[38;5;28;01mexcept\u001b[39;00m \u001b[38;5;167;01mException\u001b[39;00m \u001b[38;5;28;01mas\u001b[39;00m error:  \u001b[38;5;66;03m# pylint: disable=broad-except\u001b[39;00m\n\u001b[0;32m    180\u001b[0m     \u001b[38;5;28;01mtry\u001b[39;00m:\n",
      "File \u001b[1;32mC:\\atoti\\myenv\\lib\\site-packages\\atoti\\_runtime_type_checking_utils.py:185\u001b[0m, in \u001b[0;36m_TypecheckWrapperFactory.create_wrapper.<locals>.typechecked_func_wrapper\u001b[1;34m(*args, **kwargs)\u001b[0m\n\u001b[0;32m    182\u001b[0m typeguard\u001b[38;5;241m.\u001b[39mcheck_argument_types(memo)\n\u001b[0;32m    184\u001b[0m \u001b[38;5;66;03m# Call the actual function.\u001b[39;00m\n\u001b[1;32m--> 185\u001b[0m \u001b[38;5;28;01mreturn\u001b[39;00m \u001b[38;5;28mself\u001b[39m\u001b[38;5;241m.\u001b[39m_func(\u001b[38;5;241m*\u001b[39margs, \u001b[38;5;241m*\u001b[39m\u001b[38;5;241m*\u001b[39mkwargs)\n",
      "File \u001b[1;32mC:\\atoti\\myenv\\lib\\site-packages\\atoti_core\\doc.py:21\u001b[0m, in \u001b[0;36mdoc.<locals>.decorator.<locals>.wrapper\u001b[1;34m(*args, **kwargs)\u001b[0m\n\u001b[0;32m     19\u001b[0m \u001b[38;5;129m@wraps\u001b[39m(function)\n\u001b[0;32m     20\u001b[0m \u001b[38;5;28;01mdef\u001b[39;00m \u001b[38;5;21mwrapper\u001b[39m(\u001b[38;5;241m*\u001b[39margs: _P\u001b[38;5;241m.\u001b[39margs, \u001b[38;5;241m*\u001b[39m\u001b[38;5;241m*\u001b[39mkwargs: _P\u001b[38;5;241m.\u001b[39mkwargs) \u001b[38;5;241m-\u001b[39m\u001b[38;5;241m>\u001b[39m Any:\n\u001b[1;32m---> 21\u001b[0m     \u001b[38;5;28;01mreturn\u001b[39;00m function(\u001b[38;5;241m*\u001b[39margs, \u001b[38;5;241m*\u001b[39m\u001b[38;5;241m*\u001b[39mkwargs)\n",
      "File \u001b[1;32mC:\\atoti\\myenv\\lib\\site-packages\\atoti\\session.py:349\u001b[0m, in \u001b[0;36mSession.read_csv\u001b[1;34m(self, path, keys, table_name, separator, encoding, process_quotes, partitioning, types, array_separator, hierarchized_columns, date_patterns, client_side_encryption, **kwargs)\u001b[0m\n\u001b[0;32m    343\u001b[0m separator \u001b[38;5;241m=\u001b[39m separator \u001b[38;5;28;01mif\u001b[39;00m separator \u001b[38;5;129;01mis\u001b[39;00m \u001b[38;5;129;01mnot\u001b[39;00m \u001b[38;5;28;01mNone\u001b[39;00m \u001b[38;5;28;01melse\u001b[39;00m csv_file_format\u001b[38;5;241m.\u001b[39mseparator\n\u001b[0;32m    344\u001b[0m date_patterns \u001b[38;5;241m=\u001b[39m (\n\u001b[0;32m    345\u001b[0m     {\u001b[38;5;241m*\u001b[39m\u001b[38;5;241m*\u001b[39mcsv_file_format\u001b[38;5;241m.\u001b[39mdate_patterns, \u001b[38;5;241m*\u001b[39m\u001b[38;5;241m*\u001b[39mdate_patterns}\n\u001b[0;32m    346\u001b[0m     \u001b[38;5;28;01mif\u001b[39;00m date_patterns \u001b[38;5;129;01mis\u001b[39;00m \u001b[38;5;129;01mnot\u001b[39;00m \u001b[38;5;28;01mNone\u001b[39;00m\n\u001b[0;32m    347\u001b[0m     \u001b[38;5;28;01melse\u001b[39;00m csv_file_format\u001b[38;5;241m.\u001b[39mdate_patterns\n\u001b[0;32m    348\u001b[0m )\n\u001b[1;32m--> 349\u001b[0m table \u001b[38;5;241m=\u001b[39m \u001b[38;5;28;43mself\u001b[39;49m\u001b[38;5;241;43m.\u001b[39;49m\u001b[43mcreate_table\u001b[49m\u001b[43m(\u001b[49m\n\u001b[0;32m    350\u001b[0m \u001b[43m    \u001b[49m\u001b[43mtable_name\u001b[49m\u001b[43m,\u001b[49m\n\u001b[0;32m    351\u001b[0m \u001b[43m    \u001b[49m\u001b[43mtypes\u001b[49m\u001b[38;5;241;43m=\u001b[39;49m\u001b[43mtypes\u001b[49m\u001b[43m,\u001b[49m\n\u001b[0;32m    352\u001b[0m \u001b[43m    \u001b[49m\u001b[43mkeys\u001b[49m\u001b[38;5;241;43m=\u001b[39;49m\u001b[43mkeys\u001b[49m\u001b[43m,\u001b[49m\n\u001b[0;32m    353\u001b[0m \u001b[43m    \u001b[49m\u001b[43mpartitioning\u001b[49m\u001b[38;5;241;43m=\u001b[39;49m\u001b[43mpartitioning\u001b[49m\u001b[43m,\u001b[49m\n\u001b[0;32m    354\u001b[0m \u001b[43m    \u001b[49m\u001b[43mhierarchized_columns\u001b[49m\u001b[38;5;241;43m=\u001b[39;49m\u001b[43mhierarchized_columns\u001b[49m\u001b[43m,\u001b[49m\n\u001b[0;32m    355\u001b[0m \u001b[43m    \u001b[49m\u001b[43mis_parameter_table\u001b[49m\u001b[38;5;241;43m=\u001b[39;49m\u001b[43mprivate_parameters\u001b[49m\u001b[38;5;241;43m.\u001b[39;49m\u001b[43mis_parameter_table\u001b[49m\u001b[43m,\u001b[49m\n\u001b[0;32m    356\u001b[0m \u001b[43m\u001b[49m\u001b[43m)\u001b[49m\n\u001b[0;32m    357\u001b[0m table\u001b[38;5;241m.\u001b[39mload_csv(\n\u001b[0;32m    358\u001b[0m     full_path,\n\u001b[0;32m    359\u001b[0m     separator\u001b[38;5;241m=\u001b[39mseparator,\n\u001b[1;32m   (...)\u001b[0m\n\u001b[0;32m    364\u001b[0m     client_side_encryption\u001b[38;5;241m=\u001b[39mclient_side_encryption,\n\u001b[0;32m    365\u001b[0m )\n\u001b[0;32m    366\u001b[0m \u001b[38;5;28;01mreturn\u001b[39;00m table\n",
      "File \u001b[1;32mC:\\atoti\\myenv\\lib\\site-packages\\atoti\\_telemetry.py:217\u001b[0m, in \u001b[0;36m_track_calls.<locals>.function_wrapper\u001b[1;34m(*args, **kwargs)\u001b[0m\n\u001b[0;32m    211\u001b[0m \u001b[38;5;129m@functools\u001b[39m\u001b[38;5;241m.\u001b[39mwraps(function)\n\u001b[0;32m    212\u001b[0m \u001b[38;5;28;01mdef\u001b[39;00m \u001b[38;5;21mfunction_wrapper\u001b[39m(\n\u001b[0;32m    213\u001b[0m     \u001b[38;5;241m*\u001b[39margs: _P\u001b[38;5;241m.\u001b[39margs,\n\u001b[0;32m    214\u001b[0m     \u001b[38;5;241m*\u001b[39m\u001b[38;5;241m*\u001b[39mkwargs: _P\u001b[38;5;241m.\u001b[39mkwargs,\n\u001b[0;32m    215\u001b[0m ) \u001b[38;5;241m-\u001b[39m\u001b[38;5;241m>\u001b[39m _R:\n\u001b[0;32m    216\u001b[0m     \u001b[38;5;28;01mif\u001b[39;00m call_tracker\u001b[38;5;241m.\u001b[39mtracking:\n\u001b[1;32m--> 217\u001b[0m         \u001b[38;5;28;01mreturn\u001b[39;00m function(\u001b[38;5;241m*\u001b[39margs, \u001b[38;5;241m*\u001b[39m\u001b[38;5;241m*\u001b[39mkwargs)\n\u001b[0;32m    219\u001b[0m     call_tracker\u001b[38;5;241m.\u001b[39mtracking \u001b[38;5;241m=\u001b[39m \u001b[38;5;28;01mTrue\u001b[39;00m\n\u001b[0;32m    221\u001b[0m     \u001b[38;5;28;01mtry\u001b[39;00m:\n",
      "File \u001b[1;32mC:\\atoti\\myenv\\lib\\site-packages\\atoti\\_runtime_type_checking_utils.py:185\u001b[0m, in \u001b[0;36m_TypecheckWrapperFactory.create_wrapper.<locals>.typechecked_func_wrapper\u001b[1;34m(*args, **kwargs)\u001b[0m\n\u001b[0;32m    182\u001b[0m typeguard\u001b[38;5;241m.\u001b[39mcheck_argument_types(memo)\n\u001b[0;32m    184\u001b[0m \u001b[38;5;66;03m# Call the actual function.\u001b[39;00m\n\u001b[1;32m--> 185\u001b[0m \u001b[38;5;28;01mreturn\u001b[39;00m \u001b[38;5;28mself\u001b[39m\u001b[38;5;241m.\u001b[39m_func(\u001b[38;5;241m*\u001b[39margs, \u001b[38;5;241m*\u001b[39m\u001b[38;5;241m*\u001b[39mkwargs)\n",
      "File \u001b[1;32mC:\\atoti\\myenv\\lib\\site-packages\\atoti_core\\doc.py:21\u001b[0m, in \u001b[0;36mdoc.<locals>.decorator.<locals>.wrapper\u001b[1;34m(*args, **kwargs)\u001b[0m\n\u001b[0;32m     19\u001b[0m \u001b[38;5;129m@wraps\u001b[39m(function)\n\u001b[0;32m     20\u001b[0m \u001b[38;5;28;01mdef\u001b[39;00m \u001b[38;5;21mwrapper\u001b[39m(\u001b[38;5;241m*\u001b[39margs: _P\u001b[38;5;241m.\u001b[39margs, \u001b[38;5;241m*\u001b[39m\u001b[38;5;241m*\u001b[39mkwargs: _P\u001b[38;5;241m.\u001b[39mkwargs) \u001b[38;5;241m-\u001b[39m\u001b[38;5;241m>\u001b[39m Any:\n\u001b[1;32m---> 21\u001b[0m     \u001b[38;5;28;01mreturn\u001b[39;00m function(\u001b[38;5;241m*\u001b[39margs, \u001b[38;5;241m*\u001b[39m\u001b[38;5;241m*\u001b[39mkwargs)\n",
      "File \u001b[1;32mC:\\atoti\\myenv\\lib\\site-packages\\atoti\\session.py:157\u001b[0m, in \u001b[0;36mSession.create_table\u001b[1;34m(self, name, types, keys, partitioning, hierarchized_columns, **kwargs)\u001b[0m\n\u001b[0;32m    127\u001b[0m \u001b[38;5;124;03m\"\"\"Create a table from a schema.\u001b[39;00m\n\u001b[0;32m    128\u001b[0m \n\u001b[0;32m    129\u001b[0m \u001b[38;5;124;03mArgs:\u001b[39;00m\n\u001b[1;32m   (...)\u001b[0m\n\u001b[0;32m    154\u001b[0m \n\u001b[0;32m    155\u001b[0m \u001b[38;5;124;03m\"\"\"\u001b[39;00m\n\u001b[0;32m    156\u001b[0m private_parameters \u001b[38;5;241m=\u001b[39m _CreateTablePrivateParameters(\u001b[38;5;241m*\u001b[39m\u001b[38;5;241m*\u001b[39mkwargs)\n\u001b[1;32m--> 157\u001b[0m \u001b[38;5;28;43mself\u001b[39;49m\u001b[38;5;241;43m.\u001b[39;49m\u001b[43m_java_api\u001b[49m\u001b[38;5;241;43m.\u001b[39;49m\u001b[43mcreate_table\u001b[49m\u001b[43m(\u001b[49m\n\u001b[0;32m    158\u001b[0m \u001b[43m    \u001b[49m\u001b[43mname\u001b[49m\u001b[43m,\u001b[49m\n\u001b[0;32m    159\u001b[0m \u001b[43m    \u001b[49m\u001b[43mtypes\u001b[49m\u001b[38;5;241;43m=\u001b[39;49m\u001b[43mtypes\u001b[49m\u001b[43m,\u001b[49m\n\u001b[0;32m    160\u001b[0m \u001b[43m    \u001b[49m\u001b[43mkeys\u001b[49m\u001b[38;5;241;43m=\u001b[39;49m\u001b[43mkeys\u001b[49m\u001b[43m,\u001b[49m\n\u001b[0;32m    161\u001b[0m \u001b[43m    \u001b[49m\u001b[43mpartitioning\u001b[49m\u001b[38;5;241;43m=\u001b[39;49m\u001b[43mpartitioning\u001b[49m\u001b[43m,\u001b[49m\n\u001b[0;32m    162\u001b[0m \u001b[43m    \u001b[49m\u001b[43mhierarchized_columns\u001b[49m\u001b[38;5;241;43m=\u001b[39;49m\u001b[43mhierarchized_columns\u001b[49m\u001b[43m,\u001b[49m\n\u001b[0;32m    163\u001b[0m \u001b[43m    \u001b[49m\u001b[43mis_parameter_table\u001b[49m\u001b[38;5;241;43m=\u001b[39;49m\u001b[43mprivate_parameters\u001b[49m\u001b[38;5;241;43m.\u001b[39;49m\u001b[43mis_parameter_table\u001b[49m\u001b[43m,\u001b[49m\n\u001b[0;32m    164\u001b[0m \u001b[43m\u001b[49m\u001b[43m)\u001b[49m\n\u001b[0;32m    165\u001b[0m \u001b[38;5;28;01mreturn\u001b[39;00m Table(_name\u001b[38;5;241m=\u001b[39mname, _java_api\u001b[38;5;241m=\u001b[39m\u001b[38;5;28mself\u001b[39m\u001b[38;5;241m.\u001b[39m_java_api)\n",
      "File \u001b[1;32mC:\\atoti\\myenv\\lib\\site-packages\\atoti\\exceptions.py:78\u001b[0m, in \u001b[0;36m_java_api_call_wrapper.<locals>.catch_py4j_exceptions\u001b[1;34m(java_api, *args, **kwargs)\u001b[0m\n\u001b[0;32m     72\u001b[0m \u001b[38;5;28;01mexcept\u001b[39;00m Py4JJavaError \u001b[38;5;28;01mas\u001b[39;00m java_exception:\n\u001b[0;32m     73\u001b[0m     cause \u001b[38;5;241m=\u001b[39m (\n\u001b[0;32m     74\u001b[0m         \u001b[38;5;28mstr\u001b[39m(java_exception)\n\u001b[0;32m     75\u001b[0m         \u001b[38;5;28;01mif\u001b[39;00m get_env_flag(_ATOTI_VERBOSE_JAVA_EXCEPTIONS)\n\u001b[0;32m     76\u001b[0m         \u001b[38;5;28;01melse\u001b[39;00m \u001b[38;5;124mf\u001b[39m\u001b[38;5;124m\"\u001b[39m\u001b[38;5;132;01m{\u001b[39;00mjava_api\u001b[38;5;241m.\u001b[39mget_throwable_root_cause(java_exception\u001b[38;5;241m.\u001b[39mjava_exception)\u001b[38;5;132;01m}\u001b[39;00m\u001b[38;5;124m\"\u001b[39m\n\u001b[0;32m     77\u001b[0m     )\n\u001b[1;32m---> 78\u001b[0m     \u001b[38;5;28;01mraise\u001b[39;00m AtotiJavaException(\n\u001b[0;32m     79\u001b[0m         cause,\n\u001b[0;32m     80\u001b[0m         java_traceback\u001b[38;5;241m=\u001b[39m\u001b[38;5;28mstr\u001b[39m(java_exception),\n\u001b[0;32m     81\u001b[0m         java_exception\u001b[38;5;241m=\u001b[39mjava_exception,\n\u001b[0;32m     82\u001b[0m     ) \u001b[38;5;28;01mfrom\u001b[39;00m \u001b[38;5;28mNone\u001b[39m\n\u001b[0;32m     83\u001b[0m \u001b[38;5;28;01mexcept\u001b[39;00m Py4JNetworkError \u001b[38;5;28;01mas\u001b[39;00m error:\n\u001b[0;32m     84\u001b[0m     \u001b[38;5;28;01mraise\u001b[39;00m AtotiNetworkException(\u001b[38;5;28mstr\u001b[39m(error)) \u001b[38;5;28;01mfrom\u001b[39;00m \u001b[38;5;28mNone\u001b[39m\n",
      "\u001b[1;31mAtotiJavaException\u001b[0m: A store with the name Fl_insurance_sample already exists! \nIf you want to recreate this store,you will have to re-create the session."
     ]
    }
   ],
   "source": [
    "sales_store=session.read_csv(\"FL_insurance_sample.csv\", keys=[\"policyID\"])\n"
   ]
  },
  {
   "cell_type": "code",
   "execution_count": null,
   "id": "3b3d1035-fd70-44d4-981a-dbf7885729fb",
   "metadata": {},
   "outputs": [],
   "source": []
  }
 ],
 "metadata": {
  "kernelspec": {
   "display_name": "Python 3 (ipykernel)",
   "language": "python",
   "name": "python3"
  },
  "language_info": {
   "codemirror_mode": {
    "name": "ipython",
    "version": 3
   },
   "file_extension": ".py",
   "mimetype": "text/x-python",
   "name": "python",
   "nbconvert_exporter": "python",
   "pygments_lexer": "ipython3",
   "version": "3.10.0"
  }
 },
 "nbformat": 4,
 "nbformat_minor": 5
}
